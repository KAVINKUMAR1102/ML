{
 "cells": [
  {
   "cell_type": "code",
   "execution_count": 1,
   "id": "692d28d1",
   "metadata": {},
   "outputs": [],
   "source": [
    "from __future__ import print_function"
   ]
  },
  {
   "cell_type": "code",
   "execution_count": 2,
   "id": "bd438824",
   "metadata": {},
   "outputs": [],
   "source": [
    "training_data = [\n",
    "['Yellow', 10, 'Giraffe'],\n",
    "['Yellow', 10, 'Giraffe'],\n",
    "['Yellow', 6, 'Tiger'],\n",
    "['Brown', 2, 'Monkey'],\n",
    "['Gray', 8, 'Elephant'],\n",
    "['Black',8,'Elephant'],\n",
    "]\n",
    "\n",
    "# training_data = [\n",
    "#  ['Green', 3 ,'Apple'],\n",
    "#  ['Yellow', 3, 'Apple'],\n",
    "#  ['Red', 1, 'Grape'],\n",
    "#  ['Red', 1, 'Lemon']\n",
    "# ]\n"
   ]
  },
  {
   "cell_type": "code",
   "execution_count": 3,
   "id": "b7e3c9de",
   "metadata": {},
   "outputs": [],
   "source": [
    "header = [\"color\", \"height\", \"label\"]"
   ]
  },
  {
   "cell_type": "code",
   "execution_count": 4,
   "id": "7bd63d4e",
   "metadata": {},
   "outputs": [],
   "source": [
    "def unique_vals(rows, col):\n",
    "    \"\"\"Find the unique values for a column in a dataset.\"\"\"\n",
    "    return set([row[col] for row in rows])"
   ]
  },
  {
   "cell_type": "code",
   "execution_count": 5,
   "id": "a3a6f8dc",
   "metadata": {},
   "outputs": [
    {
     "data": {
      "text/plain": [
       "{2, 6, 8, 10}"
      ]
     },
     "execution_count": 5,
     "metadata": {},
     "output_type": "execute_result"
    }
   ],
   "source": [
    "unique_vals(training_data, 1)"
   ]
  },
  {
   "cell_type": "code",
   "execution_count": 6,
   "id": "8bb5cacc",
   "metadata": {},
   "outputs": [],
   "source": [
    "def class_counts(rows):\n",
    "    \"\"\"Counts the number of each type of example in a dataset.\"\"\"\n",
    "    counts = {} \n",
    "    for row in rows:\n",
    "        label = row[-1]\n",
    "        if label not in counts:\n",
    "            counts[label] = 0\n",
    "        counts[label] += 1\n",
    "    return counts"
   ]
  },
  {
   "cell_type": "code",
   "execution_count": 7,
   "id": "2de2e16c",
   "metadata": {},
   "outputs": [
    {
     "data": {
      "text/plain": [
       "{'Giraffe': 2, 'Tiger': 1, 'Monkey': 1, 'Elephant': 2}"
      ]
     },
     "execution_count": 7,
     "metadata": {},
     "output_type": "execute_result"
    }
   ],
   "source": [
    "class_counts(training_data)"
   ]
  },
  {
   "cell_type": "code",
   "execution_count": 8,
   "id": "397ab118",
   "metadata": {},
   "outputs": [],
   "source": [
    "def is_numeric(value):\n",
    "    \"\"\"Test if a value is numeric.\"\"\"\n",
    "    return isinstance(value, int) or isinstance(value, float)"
   ]
  },
  {
   "cell_type": "code",
   "execution_count": 9,
   "id": "015e4af3",
   "metadata": {},
   "outputs": [],
   "source": [
    "class Question:\n",
    "    \"\"\"A Question is used to partition a dataset. This class just records a 'column number' (e.g., 0 for Color) and a\n",
    "    'column value' (e.g., Green). The 'match' method is used to compare the feature value in an example to the feature\n",
    "    value stored in the question. See the demo below. \"\"\"\n",
    "\n",
    "    def __init__(self, column, value):\n",
    "        self.column = column\n",
    "        self.value = value\n",
    "\n",
    "    def match(self, example):\n",
    "        val = example[self.column]\n",
    "        if is_numeric(val):\n",
    "            return val >= self.value\n",
    "        else:\n",
    "            return val == self.value\n",
    "\n",
    "    def __repr__(self):\n",
    "        condition = \"==\"\n",
    "        if is_numeric(self.value):\n",
    "            condition = \">=\"\n",
    "        return \"Is %s %s %s?\" % (\n",
    "            header[self.column], condition, str(self.value))"
   ]
  },
  {
   "cell_type": "code",
   "execution_count": 10,
   "id": "d275ab6f",
   "metadata": {},
   "outputs": [],
   "source": [
    "def partition(rows, question):\n",
    "    \"\"\"Partitions a dataset.\n",
    "    For each row in the dataset, check if it matches the question. If\n",
    "    so, add it to 'true rows', otherwise, add it to 'false rows'.\n",
    "    \"\"\"\n",
    "    true_rows, false_rows = [], []\n",
    "    for row in rows:\n",
    "        if question.match(row):\n",
    "            true_rows.append(row)\n",
    "        else:\n",
    "            false_rows.append(row)\n",
    "    return true_rows, false_rows"
   ]
  },
  {
   "cell_type": "code",
   "execution_count": 11,
   "id": "485f6c29",
   "metadata": {},
   "outputs": [
    {
     "name": "stdout",
     "output_type": "stream",
     "text": [
      "[['Yellow', 10, 'Giraffe'], ['Yellow', 10, 'Giraffe'], ['Yellow', 6, 'Tiger']]\n",
      "[['Brown', 2, 'Monkey'], ['Gray', 8, 'Elephant'], ['Black', 8, 'Elephant']]\n"
     ]
    }
   ],
   "source": [
    "true_rows, false_rows = partition(training_data, Question(0, 'Yellow'))\n",
    "print(true_rows)\n",
    "print(false_rows)"
   ]
  },
  {
   "cell_type": "code",
   "execution_count": 12,
   "id": "a40fa6db",
   "metadata": {},
   "outputs": [],
   "source": [
    "def gini(rows):\n",
    "    \"\"\"Calculate the Gini Impurity for a list of rows.\n",
    "    There are a few different ways to do this, I thought this one was\n",
    "    the most concise.\n",
    "    \"\"\"\n",
    "    counts = class_counts(rows)\n",
    "    impurity = 1\n",
    "    for lbl in counts:\n",
    "        prob_of_lbl = counts[lbl] / float(len(rows))\n",
    "        impurity -= prob_of_lbl**2\n",
    "    return impurity"
   ]
  },
  {
   "cell_type": "code",
   "execution_count": 13,
   "id": "d0848c4b",
   "metadata": {},
   "outputs": [],
   "source": [
    "def info_gain(left, right, current_uncertainty):\n",
    "    \"\"\"Information Gain.\n",
    "    The uncertainty of the starting node, minus the weighted impurity of\n",
    "    two child nodes.\n",
    "    \"\"\"\n",
    "    p = float(len(left)) / (len(left) + len(right))\n",
    "    return current_uncertainty - p * gini(left) - (1 - p) * gini(right)"
   ]
  },
  {
   "cell_type": "code",
   "execution_count": 14,
   "id": "d065da2f",
   "metadata": {},
   "outputs": [
    {
     "data": {
      "text/plain": [
       "0.7222222222222221"
      ]
     },
     "execution_count": 14,
     "metadata": {},
     "output_type": "execute_result"
    }
   ],
   "source": [
    "current_uncertainty = gini(training_data)\n",
    "current_uncertainty"
   ]
  },
  {
   "cell_type": "code",
   "execution_count": 15,
   "id": "aee2cc7c",
   "metadata": {},
   "outputs": [
    {
     "data": {
      "text/plain": [
       "0.2777777777777777"
      ]
     },
     "execution_count": 15,
     "metadata": {},
     "output_type": "execute_result"
    }
   ],
   "source": [
    "true_rows, false_rows = partition(training_data, Question(0, 'Yellow'))\n",
    "info_gain(true_rows, false_rows, current_uncertainty)"
   ]
  },
  {
   "cell_type": "code",
   "execution_count": 16,
   "id": "01576e13",
   "metadata": {},
   "outputs": [],
   "source": [
    "def find_best_split(rows):\n",
    "    \"\"\"Find the best question to ask by iterating over every feature / value\n",
    "    and calculating the information gain.\"\"\"\n",
    "    best_gain = 0 # keep track of the best information gain\n",
    "    best_question = None # keep train of the feature / value that produced\n",
    "    current_uncertainty = gini(rows)\n",
    "    n_features = len(rows[0]) - 1 # number of columns\n",
    "    for col in range(n_features): # for each feature\n",
    "        values = set([row[col] for row in rows]) # unique values in the col\n",
    "    for val in values: # for each value\n",
    "        question = Question(col, val)\n",
    "\n",
    "        true_rows, false_rows = partition(rows, question)\n",
    "\n",
    "\n",
    "        if len(true_rows) == 0 or len(false_rows) == 0:\n",
    "            continue\n",
    "\n",
    "        gain = info_gain(true_rows, false_rows, current_uncertainty)\n",
    "\n",
    "        if gain >= best_gain:\n",
    "            best_gain, best_question = gain, question\n",
    "    return best_gain, best_question"
   ]
  },
  {
   "cell_type": "code",
   "execution_count": 17,
   "id": "77ff027c",
   "metadata": {},
   "outputs": [
    {
     "data": {
      "text/plain": [
       "Is height >= 10?"
      ]
     },
     "execution_count": 17,
     "metadata": {},
     "output_type": "execute_result"
    }
   ],
   "source": [
    "best_gain, best_question = find_best_split(training_data)\n",
    "best_question"
   ]
  },
  {
   "cell_type": "code",
   "execution_count": 18,
   "id": "3ccba704",
   "metadata": {},
   "outputs": [],
   "source": [
    "class Leaf:\n",
    "    \"\"\"A Leaf node classifies data.\n",
    "    This holds a dictionary of class (e.g., \"Apple\") -> number of times\n",
    "    it appears in the rows from the training data that reach this leaf.\n",
    "    \"\"\"\n",
    "    def __init__(self, rows):\n",
    "        self.predictions = class_counts(rows)"
   ]
  },
  {
   "cell_type": "code",
   "execution_count": 19,
   "id": "86145e6d",
   "metadata": {},
   "outputs": [],
   "source": [
    "class Decision_Node:\n",
    "    \"\"\"A Decision Node asks a question.\n",
    "    This holds a reference to the question, and to the two child nodes.\n",
    "    \"\"\"\n",
    "    def __init__(self,\n",
    "    question,\n",
    "    true_branch,\n",
    "    false_branch):\n",
    "        self.question = question\n",
    "        self.true_branch = true_branch\n",
    "        self.false_branch = false_branch"
   ]
  },
  {
   "cell_type": "code",
   "execution_count": 20,
   "id": "ca2a0133",
   "metadata": {},
   "outputs": [],
   "source": [
    "def build_tree(rows):\n",
    "    \"\"\"Builds the tree.\n",
    "    Rules of recursion: 1) Believe that it works. 2) Start by checking\n",
    "    for the base case (no further information gain). 3) Prepare for\n",
    "    giant stack traces.\n",
    "    \"\"\"\n",
    "    gain, question = find_best_split(rows)\n",
    "    \n",
    "    if gain == 0:\n",
    "        return Leaf(rows)\n",
    "    \n",
    "    true_rows, false_rows = partition(rows, question)\n",
    "    \n",
    "    true_branch = build_tree(true_rows)\n",
    "    \n",
    "    false_branch = build_tree(false_rows)\n",
    "    \n",
    "    return Decision_Node(question, true_branch, false_branch)"
   ]
  },
  {
   "cell_type": "code",
   "execution_count": 21,
   "id": "4350841a",
   "metadata": {},
   "outputs": [],
   "source": [
    "def print_tree(node, spacing=\"\"):\n",
    "    \"\"\"World's most elegant tree printing function.\"\"\"\n",
    "    # Base case: we've reached a leaf\n",
    "    if isinstance(node, Leaf):\n",
    "        print (spacing + \"Predict\", node.predictions)\n",
    "        return\n",
    "    # Print the question at this node\n",
    "    print(spacing + str(node.question))\n",
    "    # Call this function recursively on the true branch\n",
    "    print (spacing + '--> True:')\n",
    "    print_tree(node.true_branch, spacing + \" \")\n",
    "    # Call this function recursively on the false branch\n",
    "    print (spacing + '--> False:')\n",
    "    print_tree(node.false_branch, spacing + \" \")"
   ]
  },
  {
   "cell_type": "code",
   "execution_count": 22,
   "id": "6a5dd86f",
   "metadata": {},
   "outputs": [],
   "source": [
    "my_tree = build_tree(training_data)"
   ]
  },
  {
   "cell_type": "code",
   "execution_count": 23,
   "id": "8f5089a6",
   "metadata": {},
   "outputs": [
    {
     "name": "stdout",
     "output_type": "stream",
     "text": [
      "Is height >= 10?\n",
      "--> True:\n",
      " Predict {'Giraffe': 2}\n",
      "--> False:\n",
      " Is height >= 8?\n",
      " --> True:\n",
      "  Predict {'Elephant': 2}\n",
      " --> False:\n",
      "  Is height >= 6?\n",
      "  --> True:\n",
      "   Predict {'Tiger': 1}\n",
      "  --> False:\n",
      "   Predict {'Monkey': 1}\n"
     ]
    }
   ],
   "source": [
    "print_tree(my_tree)"
   ]
  },
  {
   "cell_type": "code",
   "execution_count": 24,
   "id": "9a7be151",
   "metadata": {},
   "outputs": [],
   "source": [
    "def classify(row, node):\n",
    "    \"\"\"See the 'rules of recursion' above.\"\"\"\n",
    "    # Base case: we've reached a leaf\n",
    "    if isinstance(node, Leaf):\n",
    "        return node.predictions\n",
    "    # Decide whether to follow the true-branch or the false-branch.\n",
    "    # Compare the feature / value stored in the node,\n",
    "    # to the example we're considering.\n",
    "    if node.question.match(row):\n",
    "        return classify(row, node.true_branch)\n",
    "    else:\n",
    "        return classify(row, node.false_branch)"
   ]
  },
  {
   "cell_type": "code",
   "execution_count": 25,
   "id": "bec244bd",
   "metadata": {},
   "outputs": [],
   "source": [
    "def print_leaf(counts):\n",
    "    \"\"\"A nicer way to print the predictions at a leaf.\"\"\"\n",
    "    total = sum(counts.values()) * 1.0\n",
    "    probs = {}\n",
    "    for lbl in counts.keys():\n",
    "        probs[lbl] = str(int(counts[lbl] / total * 100)) + \"%\"\n",
    "    return probs"
   ]
  },
  {
   "cell_type": "code",
   "execution_count": 26,
   "id": "e1502c13",
   "metadata": {},
   "outputs": [],
   "source": [
    "# Evaluate\n",
    "testing_data = [\n",
    "['Yellow', 6, 'Tiger'],\n",
    "['Yellow', 5, 'Tiger'],\n",
    "['Brown', 2, 'Monkey'],\n",
    "['Brown', 1, 'Monkey'],\n",
    "['Yellow', 11, 'Giraffe'],\n",
    "['Black', 8, 'Elephant'],\n",
    "['Gray', 7, 'Elephant'],\n",
    "]"
   ]
  },
  {
   "cell_type": "code",
   "execution_count": 27,
   "id": "9df90309",
   "metadata": {},
   "outputs": [
    {
     "name": "stdout",
     "output_type": "stream",
     "text": [
      "Actual: Tiger. Predicted: {'Tiger': '100%'}\n",
      "Actual: Tiger. Predicted: {'Monkey': '100%'}\n",
      "Actual: Monkey. Predicted: {'Monkey': '100%'}\n",
      "Actual: Monkey. Predicted: {'Monkey': '100%'}\n",
      "Actual: Giraffe. Predicted: {'Giraffe': '100%'}\n",
      "Actual: Elephant. Predicted: {'Elephant': '100%'}\n",
      "Actual: Elephant. Predicted: {'Tiger': '100%'}\n"
     ]
    }
   ],
   "source": [
    "for row in testing_data:\n",
    "    print (\"Actual: %s. Predicted: %s\" %\n",
    "    (row[-1], print_leaf(classify(row, my_tree))))"
   ]
  },
  {
   "cell_type": "code",
   "execution_count": null,
   "id": "f39a60c4",
   "metadata": {},
   "outputs": [],
   "source": []
  }
 ],
 "metadata": {
  "kernelspec": {
   "display_name": "Python 3 (ipykernel)",
   "language": "python",
   "name": "python3"
  },
  "language_info": {
   "codemirror_mode": {
    "name": "ipython",
    "version": 3
   },
   "file_extension": ".py",
   "mimetype": "text/x-python",
   "name": "python",
   "nbconvert_exporter": "python",
   "pygments_lexer": "ipython3",
   "version": "3.10.7"
  }
 },
 "nbformat": 4,
 "nbformat_minor": 5
}
